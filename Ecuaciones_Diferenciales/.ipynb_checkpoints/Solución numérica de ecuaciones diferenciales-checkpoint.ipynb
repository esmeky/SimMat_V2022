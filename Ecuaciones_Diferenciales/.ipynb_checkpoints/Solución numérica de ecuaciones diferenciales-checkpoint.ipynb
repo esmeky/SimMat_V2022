{
 "cells": [
  {
   "cell_type": "markdown",
   "id": "67b44e22",
   "metadata": {},
   "source": [
    "# Solución numérica de ecuaciones diferenciales\n",
    "##  0. Introducción\n",
    "\n",
    "### 0.1 Ecuaciones diferenciales\n",
    "\n",
    "<img style=\"float: right; margin: 0px 0px 15px 15px;\" src=\"https://upload.wikimedia.org/wikipedia/commons/3/39/GodfreyKneller-IsaacNewton-1689.jpg\" width=\"150px\" height=\"50px\" />\n",
    "\n",
    "> Las primeras ecuaciones diferenciales se encuentran históricamente con la invención del cálculo por Newton y Leibniz. En el Capítulo 2 de su trabajo \"Methodus fluxionum et Serierum Infinitarum\", (Newton, 1671), Newton describe ecuaciones del tipo \n",
    "\n",
    "$$\\frac{dy(x)}{dx}=f(x,y(x)).$$\n",
    "\n",
    "**Referencia**\n",
    "- https://en.wikipedia.org/wiki/Differential_equation\n",
    "- https://www.mathsisfun.com/calculus/differential-equations.html"
   ]
  },
  {
   "cell_type": "markdown",
   "id": "6de2f027",
   "metadata": {},
   "source": [
    "Decimos que hemos resuelto la ecuación diferencial si descubrimos la función $y(x)$ (o conjunto de funciones $y(x)$).\n",
    "\n",
    "**Ejemplo** Estudiar la ecuación diferencial:\n",
    "\n",
    "$$\\frac{\\text{d}x}{\\text{d}t}=a x(t), \\quad a \\in \\mathbb{R}.$$"
   ]
  },
  {
   "cell_type": "markdown",
   "id": "7bfb0eee",
   "metadata": {},
   "source": [
    "___\n",
    "Cuando una ecuación puede ser resuelta, hay varios trucos para intentar resolverla. En muchos casos, no es posible o es muy difícil encontrar la solución analítica. Por eso, en el curso examinaremos la forma de encontrar solución numérica.\n",
    "\n",
    "### 0.1.1. ¿Porqué son útiles las ecuaciones diferenciales?\n",
    "\n",
    "Antes qué nada, conceptualmente, **¿qué significa la derivada $\\frac{dx}{dt}$?**\n",
    "\n",
    "Nuestro mundo, y particularmente los fenómenos que estudiamos en ingeniería, es cambiante (evoluciona) en el tiempo. De modo que las descripciones (modelos) de como cambian las cosas en el tiempo terminan como una ecuación diferencial.\n",
    "\n",
    "### 0.1.2. Ejemplos\n",
    "1. Biología: Crecimiento poblacional de conejos\n",
    "2. Finanzas: Interés continuamente compuesto\n",
    "3. Mecánica Clásica: Péndulo simple.\n",
    "\n",
    "<font color=green>Las ecuaciones diferenciales pueden describir como cambia la población, como se dispersa el calor, como un material radioactivo se desintegra y mucho más. Son una forma natural de describir cambios o movimiento en el universo..</font>"
   ]
  },
  {
   "cell_type": "markdown",
   "id": "501bb9e3",
   "metadata": {},
   "source": [
    "### 0.2 Ecuaciones en Diferencias\n",
    "> Las Ecuaciones en Diferencias han adquirido importancia relevante con el creciente estudio y simulación de **sistemas discretos** en las diferentes disciplinas que modelan y estudian sistemas en la ingeniería, dado que este tipo de modelado es más ajustado a la realidad. Llamamos Ecuación en Diferencias a las ecuaciones del tipo\n",
    "$$\n",
    "f\\big(k,y(k),y(k+1)\\big)=0.\n",
    "$$\n",
    "\n",
    "**Referencia**\n",
    "* https://es.wikipedia.org/wiki/Ecuaciones_en_diferencias\n",
    "* https://personal.us.es/pnadal/Informacion/leccion5ecdiferencias.pdf"
   ]
  },
  {
   "cell_type": "markdown",
   "id": "838a6b1c",
   "metadata": {},
   "source": [
    "\n",
    "Llamamos solución a la Ecuación en Diferencias a la sucesión completa de $\\{y(0),y(1),\\dots,y(k),\\dots\\}$.\n",
    "\n",
    "**Ejemplo** Explorar la solución para $y(k)$ para las condiciones: 1) $y(0)=1$ y 2) $y(0)=0$.\n",
    "\n",
    "$$\n",
    "y(k+1)=ay(k),\\quad a\\in\\mathbb{R}.\n",
    "$$"
   ]
  },
  {
   "cell_type": "markdown",
   "id": "5e27c3ef",
   "metadata": {},
   "source": [
    "## 1. `ODEint` y `Solve_IVP`\n",
    "\n",
    "### 1.1 ¿Cómo crece una población? \n",
    "\n",
    "\n",
    "El modelo más simple de crecimiento poblacional de organismos es $\\dfrac{dx}{dt}=rx$, donde $x(t)$ es la población en el tiempo $t$ y $r>0$ es la tasa de crecimiento.\n",
    "\n",
    "Este modelo predice crecimiento exponencial $x(t)=x_0e^{rt}$ (solución de la ecuación diferencial) donde $x_0=x(0)$ es la población inicial. ¿Es esto válido?\n",
    "- Recordar que $\\lim_{t\\to\\infty}x(t)=x_0\\lim_{t\\to\\infty}e^{rt}=\\infty$.\n",
    "- Este modelo no tiene en cuenta entonces sobrepoblación ni recursos limitados.\n",
    "\n",
    "En realidad la tasa de crecimiento no es una constante, sino que depende de la población $\\frac{dx}{dt}=\\mu(x)x$. Cuando $x$ es pequeña $\\mu(x)\\approx r$, como antes, pero cuando $x>1$ y $\\mu(x)<0$: la tasa de muerte es mayor a la tasa de nacimiento. Una forma matemática conveniente de modelar lo anterior es con una tasa de crecimiento $\\mu(x)$ decreciendo linealmente con $x$.\n",
    "\n",
    "**Referencia**:\n",
    "- Strogatz, Steven. *NONLINEAR DYNAMICS AND CHAOS*, ISBN: 9780813349107, (eBook disponible en biblioteca)."
   ]
  },
  {
   "cell_type": "markdown",
   "id": "d36c2454",
   "metadata": {},
   "source": [
    "### Ecuación Logística\n",
    "Primero, veamos como luce $\\mu(x)$ con decrecimiento lineal respecto a la población $x$.\n",
    "\n",
    "Como queremos que $\\mu(0)=r$ y $\\mu(1)=0$, la línea recta que conecta estos puntos es... (graficar)"
   ]
  },
  {
   "cell_type": "code",
   "execution_count": 1,
   "id": "2c753773",
   "metadata": {},
   "outputs": [],
   "source": [
    "import numpy as np\n",
    "import matplotlib.pyplot as plt"
   ]
  },
  {
   "cell_type": "code",
   "execution_count": 2,
   "id": "9121fb0d",
   "metadata": {},
   "outputs": [
    {
     "data": {
      "image/png": "[encoded data removed]",
      "text/plain": [
       "<Figure size 432x288 with 1 Axes>"
      ]
     },
     "metadata": {
      "needs_background": "light"
     },
     "output_type": "display_data"
    }
   ],
   "source": [
    "x=np.linspace(-0.1,1.1,100)\n",
    "def mu(x,r=1):\n",
    "    return r*(1-x)\n",
    "plt.plot(x,mu(x))\n",
    "plt.grid()"
   ]
  },
  {
   "cell_type": "markdown",
   "id": "5a2efbe8",
   "metadata": {},
   "source": [
    "___\n",
    "Entonces, con esta elección de $\\mu(x)=r(1-x)$, obtenemos la llamada **ecuación lógistica**, publicada por Pierre Verhulst en 1838.\n",
    "\n",
    "$$\\frac{dx}{dt} = r\\; x\\; (1- x)$$"
   ]
  },
  {
   "cell_type": "markdown",
   "id": "b5b812cd",
   "metadata": {},
   "source": [
    "Numéricamente, ¿cómo resolveríamos esta ecuación?"
   ]
  },
  {
   "cell_type": "code",
   "execution_count": 3,
   "id": "f8c4a5df",
   "metadata": {},
   "outputs": [],
   "source": [
    "from scipy.integrate import odeint,solve_ivp"
   ]
  },
  {
   "cell_type": "code",
   "execution_count": 5,
   "id": "12ae7e24",
   "metadata": {},
   "outputs": [],
   "source": [
    "odeint?"
   ]
  },
  {
   "cell_type": "code",
   "execution_count": 6,
   "id": "79caaf12",
   "metadata": {},
   "outputs": [],
   "source": [
    "def logi(x,t,r):\n",
    "    return r*x*(1-x) # Aunque no dependa de 't', lo necesitamos poner como argumento"
   ]
  },
  {
   "cell_type": "code",
   "execution_count": 7,
   "id": "eb0477dd",
   "metadata": {},
   "outputs": [],
   "source": [
    "x0=0.7\n",
    "t=np.linspace(0,10,100)\n",
    "r=0.5\n",
    "x=odeint(logi,x0,t,args=(r,))"
   ]
  },
  {
   "cell_type": "code",
   "execution_count": 8,
   "id": "c563f63c",
   "metadata": {},
   "outputs": [
    {
     "data": {
      "text/plain": [
       "(100, 1)"
      ]
     },
     "execution_count": 8,
     "metadata": {},
     "output_type": "execute_result"
    }
   ],
   "source": [
    "x.shape # (len(t),len(x0))"
   ]
  },
  {
   "cell_type": "code",
   "execution_count": 10,
   "id": "fd4805b7",
   "metadata": {},
   "outputs": [
    {
     "data": {
      "image/png": "[encoded data removed]",
      "text/plain": [
       "<Figure size 432x288 with 1 Axes>"
      ]
     },
     "metadata": {
      "needs_background": "light"
     },
     "output_type": "display_data"
    }
   ],
   "source": [
    "plt.plot(t,x)\n",
    "plt.grid()"
   ]
  },
  {
   "cell_type": "code",
   "execution_count": 12,
   "id": "fe372182",
   "metadata": {},
   "outputs": [
    {
     "data": {
      "image/png": "[encoded data removed]",
      "text/plain": [
       "<Figure size 432x288 with 1 Axes>"
      ]
     },
     "metadata": {
      "needs_background": "light"
     },
     "output_type": "display_data"
    }
   ],
   "source": [
    "# Multiples condiciones iniciales\n",
    "X0=[0.1,0.5,1.2]\n",
    "t=np.linspace(0,20,100)\n",
    "for x0 in X0:\n",
    "    x=odeint(logi,x0,t,args=(r,))\n",
    "    plt.plot(t,x,label='$x_0={}$'.format(x0))\n",
    "plt.legend()\n",
    "plt.grid()"
   ]
  },
  {
   "cell_type": "code",
   "execution_count": 13,
   "id": "33f1ae05",
   "metadata": {},
   "outputs": [
    {
     "data": {
      "image/png": "[encoded data removed]",
      "text/plain": [
       "<Figure size 432x288 with 1 Axes>"
      ]
     },
     "metadata": {
      "needs_background": "light"
     },
     "output_type": "display_data"
    }
   ],
   "source": [
    "# Multiples tasas de crecimiento\n",
    "R=[-0.2,0.2,2]\n",
    "x0=0.3\n",
    "for r in R:\n",
    "    x=odeint(logi,x0,t,args=(r,))\n",
    "    plt.plot(t,x,label='$r={}$'.format(r))\n",
    "plt.legend()\n",
    "plt.grid()"
   ]
  },
  {
   "cell_type": "markdown",
   "id": "02cf2978",
   "metadata": {},
   "source": [
    "---"
   ]
  },
  {
   "cell_type": "code",
   "execution_count": 61,
   "id": "a1b2cf7d",
   "metadata": {},
   "outputs": [],
   "source": [
    "solve_ivp?"
   ]
  },
  {
   "cell_type": "code",
   "execution_count": 15,
   "id": "6037b900",
   "metadata": {},
   "outputs": [],
   "source": [
    "# Redefinimos la función 'logi'\n",
    "def logi(t,x,r):\n",
    "    return r*x*(1-x)"
   ]
  },
  {
   "cell_type": "code",
   "execution_count": 20,
   "id": "d46fb6ff",
   "metadata": {},
   "outputs": [
    {
     "data": {
      "text/plain": [
       "(1, 9)"
      ]
     },
     "execution_count": 20,
     "metadata": {},
     "output_type": "execute_result"
    }
   ],
   "source": [
    "t_span=(0,20)\n",
    "x0=np.array([0.3]) # La función necesita un arreglo (puede ser lista)\n",
    "r=0.5\n",
    "sol=solve_ivp(logi,t_span,x0,args=(r,))#,max_step=0.1)\n",
    "sol.y.shape # Dimensión de la solución   ->   (len(x0),len(sol.t))"
   ]
  },
  {
   "cell_type": "code",
   "execution_count": 21,
   "id": "e6b7c337",
   "metadata": {},
   "outputs": [
    {
     "data": {
      "text/plain": [
       "(9, 1)"
      ]
     },
     "execution_count": 21,
     "metadata": {},
     "output_type": "execute_result"
    }
   ],
   "source": [
    "x=sol.y.T # Redimensionamos la solución\n",
    "x.shape"
   ]
  },
  {
   "cell_type": "code",
   "execution_count": 22,
   "id": "63f25c46",
   "metadata": {},
   "outputs": [
    {
     "data": {
      "image/png": "[encoded data removed]",
      "text/plain": [
       "<Figure size 432x288 with 1 Axes>"
      ]
     },
     "metadata": {
      "needs_background": "light"
     },
     "output_type": "display_data"
    }
   ],
   "source": [
    "plt.plot(sol.t,x)\n",
    "plt.grid()"
   ]
  },
  {
   "cell_type": "markdown",
   "id": "e3830374",
   "metadata": {},
   "source": [
    "### Error de la solución numérica\n",
    "**¿Qué tan buena es la aproximación de la solución numérica?**\n",
    "\n",
    "Hay ecuaciones diferenciales ordinarias no lineales para las cuales es imposible obtener la solución exacta. En estos casos, se evalúa una solución aproximada de forma numérica.\n",
    "\n",
    "Para el caso anterior es posible obtener la solución exacta, lo cual nos permite comparar ambas soluciones y evaluar qué tan buena es la aproximación que nos brinda la solución numérica.\n",
    "\n",
    "**Solución a la ecuación diferencial**: La ecuación diferencial inicial tiene *solución analítica*, \n",
    "$$ x(t) = \\frac{1}{1+ \\left(\\frac{1}{x_{0}}- 1\\right) e^{-rt}}.$$\n",
    "\n",
    "Veamoslo graficamente"
   ]
  },
  {
   "cell_type": "code",
   "execution_count": 23,
   "id": "e0018505",
   "metadata": {},
   "outputs": [],
   "source": [
    "def logistica(t,r,x0):\n",
    "    return 1/(1+(1/x0-1)*np.exp(-r*t))"
   ]
  },
  {
   "cell_type": "code",
   "execution_count": 48,
   "id": "b52c6706",
   "metadata": {},
   "outputs": [
    {
     "data": {
      "image/png": "[encoded data removed]",
      "text/plain": [
       "<Figure size 432x288 with 1 Axes>"
      ]
     },
     "metadata": {
      "needs_background": "light"
     },
     "output_type": "display_data"
    }
   ],
   "source": [
    "t=np.linspace(0,20,100)\n",
    "x0=0.3\n",
    "r=0.5\n",
    "xA=logistica(t,r,x0)\n",
    "plt.plot(t,xA)\n",
    "plt.grid()"
   ]
  },
  {
   "cell_type": "markdown",
   "id": "002ade30",
   "metadata": {},
   "source": [
    "Comparamos entonces ambas gráficas"
   ]
  },
  {
   "cell_type": "code",
   "execution_count": 49,
   "id": "e7c58b68",
   "metadata": {},
   "outputs": [],
   "source": [
    "x1=odeint(lambda x,t,r:r*x*(1-x),x0,t,args=(r,))\n",
    "sol=solve_ivp(logi,(0,20),[x0],args=(r,),max_step=0.2)\n",
    "x2=sol.y.T"
   ]
  },
  {
   "cell_type": "code",
   "execution_count": 50,
   "id": "58021ed6",
   "metadata": {},
   "outputs": [
    {
     "data": {
      "image/png": "[encoded data removed]",
      "text/plain": [
       "<Figure size 432x288 with 1 Axes>"
      ]
     },
     "metadata": {
      "needs_background": "light"
     },
     "output_type": "display_data"
    }
   ],
   "source": [
    "plt.plot(t,xA,label='Solución analítica',lw=5)\n",
    "plt.plot(t,x1,label='odeint',lw=3)\n",
    "plt.plot(sol.t,x2,'k',label='solve_ivp',lw=1)\n",
    "plt.legend()\n",
    "plt.grid()"
   ]
  },
  {
   "cell_type": "markdown",
   "id": "9d771a50",
   "metadata": {},
   "source": [
    "Gráficamente vemos que la solución numérica está cerca (coincide) con la solución exacta. Sin embargo, con esta gráfica no podemos visualizar qué tan cerca están una solución de la otra. ¿Qué tal si evaluamos el error?"
   ]
  },
  {
   "cell_type": "code",
   "execution_count": 54,
   "id": "75801e23",
   "metadata": {},
   "outputs": [
    {
     "data": {
      "image/png": "[encoded data removed]",
      "text/plain": [
       "<Figure size 432x288 with 1 Axes>"
      ]
     },
     "metadata": {
      "needs_background": "light"
     },
     "output_type": "display_data"
    }
   ],
   "source": [
    "e1=xA-x1[:,0] # Diferencia para odeint\n",
    "xA2=logistica(sol.t,r,x0)\n",
    "e2=xA2-x2[:,0] # Diferencia para solve_ivp\n",
    "plt.plot(t,e1,label='Error de odeint')\n",
    "plt.plot(sol.t,e2*10e2,label='Error de solve_ivp')\n",
    "plt.legend()\n",
    "plt.grid()"
   ]
  },
  {
   "cell_type": "markdown",
   "id": "c8ba6132",
   "metadata": {},
   "source": [
    "Entonces, **cualitativamente** ya vimos que la solución numérica es *suficientemente buena*. De todas maneras, es siempre bueno cuantificar *qué tan buena* es la aproximación. Varias formas:\n",
    "- <font color=blue>Norma del error</font>: tenemos el error de aproximación en ciertos puntos (especificados por el vector de tiempo). Este error es entonces un vector y le podemos tomar su norma 2\n",
    "\n",
    "$$||e||_2=\\sqrt{e[0]^2+\\dots+e[n-1]^2}$$"
   ]
  },
  {
   "cell_type": "code",
   "execution_count": 55,
   "id": "495eefb4",
   "metadata": {},
   "outputs": [
    {
     "data": {
      "text/plain": [
       "2.1589605163682112e-07"
      ]
     },
     "execution_count": 55,
     "metadata": {},
     "output_type": "execute_result"
    }
   ],
   "source": [
    "np.sqrt(np.sum(e1**2)) # Norma del error para odeint"
   ]
  },
  {
   "cell_type": "code",
   "execution_count": 56,
   "id": "5e917bcc",
   "metadata": {},
   "outputs": [
    {
     "data": {
      "text/plain": [
       "3.9989274210445393e-10"
      ]
     },
     "execution_count": 56,
     "metadata": {},
     "output_type": "execute_result"
    }
   ],
   "source": [
    "np.sqrt(np.sum(e2**2)) # Norma del error para solve_ivp"
   ]
  },
  {
   "cell_type": "markdown",
   "id": "1c9d3cef",
   "metadata": {},
   "source": [
    "- <font color=blue>Error cuadrático medio</font>: otra forma de cuantificar es con el error cuadrático medio\n",
    "\n",
    "$$e_{ms}=\\frac{e[0]^2+\\dots+e[n-1]^2}{n}$$"
   ]
  },
  {
   "cell_type": "code",
   "execution_count": 57,
   "id": "725b004d",
   "metadata": {},
   "outputs": [
    {
     "data": {
      "text/plain": [
       "4.661110511236893e-16"
      ]
     },
     "execution_count": 57,
     "metadata": {},
     "output_type": "execute_result"
    }
   ],
   "source": [
    "np.mean(e1**2) # MSE de odeint"
   ]
  },
  {
   "cell_type": "code",
   "execution_count": 58,
   "id": "259009da",
   "metadata": {},
   "outputs": [
    {
     "data": {
      "text/plain": [
       "1.5677863253707774e-21"
      ]
     },
     "execution_count": 58,
     "metadata": {},
     "output_type": "execute_result"
    }
   ],
   "source": [
    "np.mean(e2**2) # MSE de solve_ivp"
   ]
  },
  {
   "cell_type": "markdown",
   "id": "6d7752a7",
   "metadata": {},
   "source": [
    "- <font color=blue>Integral del error cuadrático</font>: evalúa la acumulación de error cuadrático. Se puede leevar a cabo con la siguiente aproximación rectangular de la integral\n",
    "\n",
    "$$e_{is}=\\int_{0}^{t_f}e(t)^2\\text{d}t\\approx \\left(e[0]^2+\\dots+e[n-1]^2\\right)h$$\n",
    "\n",
    "donde $h$ es el tamaño de paso del vector de tiempo."
   ]
  },
  {
   "cell_type": "code",
   "execution_count": 59,
   "id": "cfdb6bcf",
   "metadata": {},
   "outputs": [
    {
     "data": {
      "text/plain": [
       "9.322221022473785e-15"
      ]
     },
     "execution_count": 59,
     "metadata": {},
     "output_type": "execute_result"
    }
   ],
   "source": [
    "np.sum(e1**2)*0.2"
   ]
  },
  {
   "cell_type": "code",
   "execution_count": 60,
   "id": "b842cb3e",
   "metadata": {},
   "outputs": [
    {
     "data": {
      "text/plain": [
       "3.198284103756386e-20"
      ]
     },
     "execution_count": 60,
     "metadata": {},
     "output_type": "execute_result"
    }
   ],
   "source": [
    "np.sum(e2**2)*0.2"
   ]
  },
  {
   "cell_type": "markdown",
   "id": "78d175af",
   "metadata": {},
   "source": [
    "#### Comentarios del modelo logístico\n",
    "El modelo no se debe tomar literalmente. Más bien se debe interpretar metefóricamente como que la población tiene una tendencia a crecer hasta su tope, o bien, desaparecer.\n",
    "\n",
    "La ecuación logística fue probada en experimentos de laboratorio para colonias de bacterias en condiciones de clima constante, abastecimiento de comida y ausencia de predadores. Los experimentos mostraron que la ecuación predecía muy bien el comportamiento real.\n",
    "\n",
    "Por otra parte, la predicción no resultó tan buena para moscas que se alimentan de frutas, escarabajos y otros organismos con ciclos de vida complejos. En esos casos se observaron fluctuaciones (oscilaciones) inmensas de la población."
   ]
  },
  {
   "cell_type": "markdown",
   "id": "4dd19a41",
   "metadata": {},
   "source": [
    "___\n",
    "### Mapa logístico\n",
    "> La ecuación logística (curva de crecimiento logístico) es un modelo del crecimiento continuo en el tiempo. Una modificación de la ecuación continua a una ecuación de recurrencia discreta conocida como **mapa logistico** es muy usada.\n",
    "\n",
    "Referencia: \n",
    "- https://es.wikipedia.org/wiki/Aplicación_log%C3%ADstica\n",
    "- https://en.wikipedia.org/wiki/Logistic_map\n",
    "\n",
    "Si reemplazamos la ecuación logísitica por la ecuación a diferencias: \n",
    "\n",
    "$$x_{n+1} = r\\; x_{n}(1- x_{n}),$$\n",
    "\n",
    "donde $r$ es la razón de crecimiento máximo de la población y $x_{n}$ es la n-ésima iteración. Entonces, lo que tenemos que programar es la siguiente relación recursiva\n",
    "\n",
    "$$x_{n+1}^{(r)} = f_r(x_n^{(r)}) = rx_n^{(r)}(1-x_n^{(r)})$$"
   ]
  },
  {
   "cell_type": "markdown",
   "id": "c384cf2a",
   "metadata": {},
   "source": [
    "El siguiente `gif` muestra las primeras 63 iteraciones de la anterior ecuación para diferentes valores de $r$ variando entre 2 y 4.\n",
    "\n",
    "<img style=\"float: center;\" src=\"https://upload.wikimedia.org/wikipedia/commons/1/1f/Logistic_map_animation.gif\" width=\"800px\" height=\"400px\" />\n",
    "\n",
    "Tomado de https://upload.wikimedia.org/wikipedia/commons/1/1f/Logistic_map_animation.gif.\n",
    "\n",
    "Note que:\n",
    "- Para $2<r<3$ las soluciones se estabilizan en un valor de equilibrio.\n",
    "- Para $3<r<1+\\sqrt{6}\\approx 3.44949$ las soluciones oscilan entre dos valores.\n",
    "- Para $3.44949<r<3.54409$ las soluciones oscilan entre cuatro valores.\n",
    "- Para $r>3.54409$ las soluciones exhiben un comportamiento **caótico**.\n",
    "\n",
    "<font color=red> Caos: comportamiento determinista aperiódico muy sensible a las condiciones iniciales. Es decir, pequeñas variaciones en dichas condiciones iniciales pueden implicar grandes diferencias en el comportamiento futuro</font>\n",
    "\n",
    "**¿Cómo podemos capturar este comportamiento en una sola gráfica?**"
   ]
  },
  {
   "cell_type": "code",
   "execution_count": null,
   "id": "01b9ecc1",
   "metadata": {},
   "outputs": [],
   "source": []
  }
 ],
 "metadata": {
  "kernelspec": {
   "display_name": "Python 3",
   "language": "python",
   "name": "python3"
  },
  "language_info": {
   "codemirror_mode": {
    "name": "ipython",
    "version": 3
   },
   "file_extension": ".py",
   "mimetype": "text/x-python",
   "name": "python",
   "nbconvert_exporter": "python",
   "pygments_lexer": "ipython3",
   "version": "3.8.8"
  }
 },
 "nbformat": 4,
 "nbformat_minor": 5
}
