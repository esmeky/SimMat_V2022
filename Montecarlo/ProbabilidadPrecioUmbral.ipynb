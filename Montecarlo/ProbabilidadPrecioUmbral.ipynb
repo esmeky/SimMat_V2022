{
 "cells": [
  {
   "cell_type": "markdown",
   "metadata": {},
   "source": [
    "# Aplicando Python para análisis de precios: simulación de escenarios futuros de precios\n",
    "\n",
    "<img style=\"float: right; margin: 0px 0px 15px 15px;\" src=\"https://upload.wikimedia.org/wikipedia/commons/d/d7/Philippine-stock-market-board.jpg\" width=\"400px\" height=\"125px\" />\n",
    "\n",
    "> En la clase anterior vimos como importar datos de activos de la base de datos de Yahoo Finance usando el paquete pandas-datareader. En esta clase, veremos como pronosticar escenarios de evolución de precios, suponiendo que los rendimientos diarios se distribuyen normalmente. Como esta evolución de precios es aleatoria, utilizaremos la simulación montecarlo (hacer muchas simulaciones de escenarios de evolución de precios) para obtener probabilidades de que los precios de cierre estén encima de un valor umbral y tomar decisiones con base en estas probabilidades.\n",
    "\n",
    "**Referencias:**\n",
    "- http://pandas.pydata.org/\n",
    "- http://www.learndatasci.com/python-finance-part-yahoo-finance-api-pandas-matplotlib/"
   ]
  },
  {
   "cell_type": "markdown",
   "metadata": {},
   "source": [
    "## 1. Recordemos como descargar datos..."
   ]
  },
  {
   "cell_type": "markdown",
   "metadata": {},
   "source": [
    "Antes que nada, para poder hacer simular escenarios de predicción de precios, vamos a recordar lo que hicimos en la clase pasada de descargar los datos de Yahoo Finance, utilizando el paquete `data` de la librería `pandas_datareader`.\n",
    "\n",
    "Esta vez, utilizaremos los datos de precios de cierre ajustados de activos de la compañía Apple en el año 2016 para nuestra aplicación."
   ]
  },
  {
   "cell_type": "code",
   "execution_count": 1,
   "metadata": {
    "collapsed": true
   },
   "outputs": [
    {
     "name": "stdout",
     "output_type": "stream",
     "text": [
      "Collecting pandas-datareader\n",
      "  Downloading pandas_datareader-0.10.0-py3-none-any.whl (109 kB)\n",
      "Requirement already satisfied: requests>=2.19.0 in c:\\programdata\\anaconda3\\lib\\site-packages (from pandas-datareader) (2.25.1)\n",
      "Requirement already satisfied: pandas>=0.23 in c:\\programdata\\anaconda3\\lib\\site-packages (from pandas-datareader) (1.2.4)\n",
      "Requirement already satisfied: lxml in c:\\programdata\\anaconda3\\lib\\site-packages (from pandas-datareader) (4.6.3)\n",
      "Requirement already satisfied: numpy>=1.16.5 in c:\\programdata\\anaconda3\\lib\\site-packages (from pandas>=0.23->pandas-datareader) (1.20.1)\n",
      "Requirement already satisfied: python-dateutil>=2.7.3 in c:\\programdata\\anaconda3\\lib\\site-packages (from pandas>=0.23->pandas-datareader) (2.8.1)\n",
      "Requirement already satisfied: pytz>=2017.3 in c:\\programdata\\anaconda3\\lib\\site-packages (from pandas>=0.23->pandas-datareader) (2021.1)\n",
      "Requirement already satisfied: six>=1.5 in c:\\programdata\\anaconda3\\lib\\site-packages (from python-dateutil>=2.7.3->pandas>=0.23->pandas-datareader) (1.15.0)\n",
      "Requirement already satisfied: chardet<5,>=3.0.2 in c:\\programdata\\anaconda3\\lib\\site-packages (from requests>=2.19.0->pandas-datareader) (4.0.0)\n",
      "Requirement already satisfied: urllib3<1.27,>=1.21.1 in c:\\programdata\\anaconda3\\lib\\site-packages (from requests>=2.19.0->pandas-datareader) (1.26.4)\n",
      "Requirement already satisfied: idna<3,>=2.5 in c:\\programdata\\anaconda3\\lib\\site-packages (from requests>=2.19.0->pandas-datareader) (2.10)\n",
      "Requirement already satisfied: certifi>=2017.4.17 in c:\\programdata\\anaconda3\\lib\\site-packages (from requests>=2.19.0->pandas-datareader) (2020.12.5)\n",
      "Installing collected packages: pandas-datareader\n",
      "Successfully installed pandas-datareader-0.10.0\n"
     ]
    }
   ],
   "source": [
    "!pip install pandas-datareader"
   ]
  },
  {
   "cell_type": "code",
   "execution_count": 3,
   "metadata": {},
   "outputs": [],
   "source": [
    "import pandas as pd\n",
    "import pandas_datareader.data as web\n",
    "import numpy as np\n",
    "import matplotlib.pyplot as plt"
   ]
  },
  {
   "cell_type": "code",
   "execution_count": 4,
   "metadata": {},
   "outputs": [],
   "source": [
    "# Función para obtener los datos ajustados al cierre desde Yahoo\n",
    "def getClose(names, start, end):\n",
    "    return web.DataReader(names,'yahoo',start,end)['Adj Close']"
   ]
  },
  {
   "cell_type": "code",
   "execution_count": 6,
   "metadata": {},
   "outputs": [
    {
     "data": {
      "text/html": [
       "<div>\n",
       "<style scoped>\n",
       "    .dataframe tbody tr th:only-of-type {\n",
       "        vertical-align: middle;\n",
       "    }\n",
       "\n",
       "    .dataframe tbody tr th {\n",
       "        vertical-align: top;\n",
       "    }\n",
       "\n",
       "    .dataframe thead th {\n",
       "        text-align: right;\n",
       "    }\n",
       "</style>\n",
       "<table border=\"1\" class=\"dataframe\">\n",
       "  <thead>\n",
       "    <tr style=\"text-align: right;\">\n",
       "      <th>Symbols</th>\n",
       "      <th>AAPL</th>\n",
       "      <th>GOOG</th>\n",
       "    </tr>\n",
       "    <tr>\n",
       "      <th>Date</th>\n",
       "      <th></th>\n",
       "      <th></th>\n",
       "    </tr>\n",
       "  </thead>\n",
       "  <tbody>\n",
       "    <tr>\n",
       "      <th>2016-01-04</th>\n",
       "      <td>24.185045</td>\n",
       "      <td>741.840027</td>\n",
       "    </tr>\n",
       "    <tr>\n",
       "      <th>2016-01-05</th>\n",
       "      <td>23.578983</td>\n",
       "      <td>742.580017</td>\n",
       "    </tr>\n",
       "    <tr>\n",
       "      <th>2016-01-06</th>\n",
       "      <td>23.117552</td>\n",
       "      <td>743.619995</td>\n",
       "    </tr>\n",
       "    <tr>\n",
       "      <th>2016-01-07</th>\n",
       "      <td>22.141884</td>\n",
       "      <td>726.390015</td>\n",
       "    </tr>\n",
       "    <tr>\n",
       "      <th>2016-01-08</th>\n",
       "      <td>22.258965</td>\n",
       "      <td>714.469971</td>\n",
       "    </tr>\n",
       "  </tbody>\n",
       "</table>\n",
       "</div>"
      ],
      "text/plain": [
       "Symbols          AAPL        GOOG\n",
       "Date                             \n",
       "2016-01-04  24.185045  741.840027\n",
       "2016-01-05  23.578983  742.580017\n",
       "2016-01-06  23.117552  743.619995\n",
       "2016-01-07  22.141884  726.390015\n",
       "2016-01-08  22.258965  714.469971"
      ]
     },
     "execution_count": 6,
     "metadata": {},
     "output_type": "execute_result"
    }
   ],
   "source": [
    "names=['AAPL','GOOG'] # Apple, Google\n",
    "start='2016-01-01'\n",
    "end='2022-06-21'\n",
    "data=getClose(names,start,end)\n",
    "data.head() # Mostarmos los primeros cinco"
   ]
  },
  {
   "cell_type": "code",
   "execution_count": 10,
   "metadata": {},
   "outputs": [
    {
     "data": {
      "image/png": "[encoded data removed]",
      "text/plain": [
       "<Figure size 432x288 with 1 Axes>"
      ]
     },
     "metadata": {
      "needs_background": "light"
     },
     "output_type": "display_data"
    }
   ],
   "source": [
    "plt.plot(data)\n",
    "plt.grid()"
   ]
  },
  {
   "cell_type": "code",
   "execution_count": 7,
   "metadata": {},
   "outputs": [
    {
     "data": {
      "text/plain": [
       "<AxesSubplot:xlabel='Date'>"
      ]
     },
     "execution_count": 7,
     "metadata": {},
     "output_type": "execute_result"
    },
    {
     "data": {
      "image/png": "[encoded data removed]",
      "text/plain": [
       "<Figure size 432x288 with 1 Axes>"
      ]
     },
     "metadata": {
      "needs_background": "light"
     },
     "output_type": "display_data"
    }
   ],
   "source": [
    "data.plot(grid=True)"
   ]
  },
  {
   "cell_type": "code",
   "execution_count": 11,
   "metadata": {
    "collapsed": true
   },
   "outputs": [
    {
     "data": {
      "text/plain": [
       "Date\n",
       "2016-01-04     24.185045\n",
       "2016-01-05     23.578983\n",
       "2016-01-06     23.117552\n",
       "2016-01-07     22.141884\n",
       "2016-01-08     22.258965\n",
       "                 ...    \n",
       "2022-06-14    132.759995\n",
       "2022-06-15    135.429993\n",
       "2022-06-16    130.059998\n",
       "2022-06-17    131.559998\n",
       "2022-06-21    136.619995\n",
       "Name: AAPL, Length: 1628, dtype: float64"
      ]
     },
     "execution_count": 11,
     "metadata": {},
     "output_type": "execute_result"
    }
   ],
   "source": [
    "# Acceder a Apple\n",
    "data['AAPL'] # Regresa todas las fechas"
   ]
  },
  {
   "cell_type": "code",
   "execution_count": 15,
   "metadata": {},
   "outputs": [
    {
     "data": {
      "text/plain": [
       "Symbols\n",
       "AAPL     24.185045\n",
       "GOOG    741.840027\n",
       "Name: 2016-01-04 00:00:00, dtype: float64"
      ]
     },
     "execution_count": 15,
     "metadata": {},
     "output_type": "execute_result"
    }
   ],
   "source": [
    "# Acceder al 4 de enero de 2016\n",
    "data.loc['2016-01-04'] # La fecha es explícita"
   ]
  },
  {
   "cell_type": "code",
   "execution_count": 16,
   "metadata": {},
   "outputs": [
    {
     "data": {
      "text/plain": [
       "Symbols\n",
       "AAPL     24.185045\n",
       "GOOG    741.840027\n",
       "Name: 2016-01-04 00:00:00, dtype: float64"
      ]
     },
     "execution_count": 16,
     "metadata": {},
     "output_type": "execute_result"
    }
   ],
   "source": [
    "# Acceder al primer elemento\n",
    "data.iloc[0] # La fecha es una posición"
   ]
  },
  {
   "cell_type": "markdown",
   "metadata": {},
   "source": [
    "## 2. Simulación de rendimientos diarios\n",
    "\n",
    "Recordemos que los precios diarios de cierre ajustados no son un proceso estocástico estacionario, pero los rendimientos diarios si lo son. Por tanto calculamos los rendimientos a partir de los precios de cierre, obtenemos sus propiedades estadísticas muestrales y proyectamos los rendimientos. Luego, obtenemos la proyección de los precios.\n",
    "\n",
    "Para una sucesión de precios $\\{S_t\\}_{t=0}^{n}$, el rendimiento simple $R_t$ se define como el cambio porcentual\n",
    "\n",
    "$$\n",
    "R_t=\\frac{S_t-S_{t-1}}{S_{t-1}}\\approx \\ln\\left(\\frac{S_t}{S_{t-1}}\\right)=r_t.\n",
    "$$\n",
    "para $t=1,\\ldots,n$.\n",
    "\n",
    "Para el ejemplo en curso, ¿cómo calcular esto?"
   ]
  },
  {
   "cell_type": "code",
   "execution_count": 17,
   "metadata": {},
   "outputs": [
    {
     "data": {
      "text/html": [
       "<div>\n",
       "<style scoped>\n",
       "    .dataframe tbody tr th:only-of-type {\n",
       "        vertical-align: middle;\n",
       "    }\n",
       "\n",
       "    .dataframe tbody tr th {\n",
       "        vertical-align: top;\n",
       "    }\n",
       "\n",
       "    .dataframe thead th {\n",
       "        text-align: right;\n",
       "    }\n",
       "</style>\n",
       "<table border=\"1\" class=\"dataframe\">\n",
       "  <thead>\n",
       "    <tr style=\"text-align: right;\">\n",
       "      <th>Symbols</th>\n",
       "      <th>AAPL</th>\n",
       "      <th>GOOG</th>\n",
       "    </tr>\n",
       "    <tr>\n",
       "      <th>Date</th>\n",
       "      <th></th>\n",
       "      <th></th>\n",
       "    </tr>\n",
       "  </thead>\n",
       "  <tbody>\n",
       "    <tr>\n",
       "      <th>2016-01-05</th>\n",
       "      <td>-0.025059</td>\n",
       "      <td>0.000998</td>\n",
       "    </tr>\n",
       "    <tr>\n",
       "      <th>2016-01-06</th>\n",
       "      <td>-0.019570</td>\n",
       "      <td>0.001400</td>\n",
       "    </tr>\n",
       "    <tr>\n",
       "      <th>2016-01-07</th>\n",
       "      <td>-0.042205</td>\n",
       "      <td>-0.023170</td>\n",
       "    </tr>\n",
       "    <tr>\n",
       "      <th>2016-01-08</th>\n",
       "      <td>0.005288</td>\n",
       "      <td>-0.016410</td>\n",
       "    </tr>\n",
       "    <tr>\n",
       "      <th>2016-01-11</th>\n",
       "      <td>0.016192</td>\n",
       "      <td>0.002184</td>\n",
       "    </tr>\n",
       "  </tbody>\n",
       "</table>\n",
       "</div>"
      ],
      "text/plain": [
       "Symbols         AAPL      GOOG\n",
       "Date                          \n",
       "2016-01-05 -0.025059  0.000998\n",
       "2016-01-06 -0.019570  0.001400\n",
       "2016-01-07 -0.042205 -0.023170\n",
       "2016-01-08  0.005288 -0.016410\n",
       "2016-01-11  0.016192  0.002184"
      ]
     },
     "execution_count": 17,
     "metadata": {},
     "output_type": "execute_result"
    }
   ],
   "source": [
    "R=((data-data.shift())/data.shift()).dropna() # dropna -> elimina los NaN\n",
    "R.head()"
   ]
  },
  {
   "cell_type": "code",
   "execution_count": 19,
   "metadata": {},
   "outputs": [
    {
     "data": {
      "text/html": [
       "<div>\n",
       "<style scoped>\n",
       "    .dataframe tbody tr th:only-of-type {\n",
       "        vertical-align: middle;\n",
       "    }\n",
       "\n",
       "    .dataframe tbody tr th {\n",
       "        vertical-align: top;\n",
       "    }\n",
       "\n",
       "    .dataframe thead th {\n",
       "        text-align: right;\n",
       "    }\n",
       "</style>\n",
       "<table border=\"1\" class=\"dataframe\">\n",
       "  <thead>\n",
       "    <tr style=\"text-align: right;\">\n",
       "      <th>Symbols</th>\n",
       "      <th>AAPL</th>\n",
       "      <th>GOOG</th>\n",
       "    </tr>\n",
       "    <tr>\n",
       "      <th>Date</th>\n",
       "      <th></th>\n",
       "      <th></th>\n",
       "    </tr>\n",
       "  </thead>\n",
       "  <tbody>\n",
       "    <tr>\n",
       "      <th>2016-01-05</th>\n",
       "      <td>-0.025379</td>\n",
       "      <td>0.000997</td>\n",
       "    </tr>\n",
       "    <tr>\n",
       "      <th>2016-01-06</th>\n",
       "      <td>-0.019764</td>\n",
       "      <td>0.001400</td>\n",
       "    </tr>\n",
       "    <tr>\n",
       "      <th>2016-01-07</th>\n",
       "      <td>-0.043121</td>\n",
       "      <td>-0.023443</td>\n",
       "    </tr>\n",
       "    <tr>\n",
       "      <th>2016-01-08</th>\n",
       "      <td>0.005274</td>\n",
       "      <td>-0.016546</td>\n",
       "    </tr>\n",
       "    <tr>\n",
       "      <th>2016-01-11</th>\n",
       "      <td>0.016063</td>\n",
       "      <td>0.002181</td>\n",
       "    </tr>\n",
       "  </tbody>\n",
       "</table>\n",
       "</div>"
      ],
      "text/plain": [
       "Symbols         AAPL      GOOG\n",
       "Date                          \n",
       "2016-01-05 -0.025379  0.000997\n",
       "2016-01-06 -0.019764  0.001400\n",
       "2016-01-07 -0.043121 -0.023443\n",
       "2016-01-08  0.005274 -0.016546\n",
       "2016-01-11  0.016063  0.002181"
      ]
     },
     "execution_count": 19,
     "metadata": {},
     "output_type": "execute_result"
    }
   ],
   "source": [
    "r=np.log(data/data.shift()).dropna()\n",
    "r.head()"
   ]
  },
  {
   "cell_type": "code",
   "execution_count": 20,
   "metadata": {},
   "outputs": [
    {
     "data": {
      "text/plain": [
       "<AxesSubplot:xlabel='Date'>"
      ]
     },
     "execution_count": 20,
     "metadata": {},
     "output_type": "execute_result"
    },
    {
     "data": {
      "image/png": "[encoded data removed]",
      "text/plain": [
       "<Figure size 432x288 with 1 Axes>"
      ]
     },
     "metadata": {
      "needs_background": "light"
     },
     "output_type": "display_data"
    }
   ],
   "source": [
    "(R-r).plot(grid=True)"
   ]
  },
  {
   "cell_type": "code",
   "execution_count": 21,
   "metadata": {},
   "outputs": [
    {
     "data": {
      "text/plain": [
       "array([[<AxesSubplot:title={'center':'AAPL'}>,\n",
       "        <AxesSubplot:title={'center':'GOOG'}>]], dtype=object)"
      ]
     },
     "execution_count": 21,
     "metadata": {},
     "output_type": "execute_result"
    },
    {
     "data": {
      "image/png": "[encoded data removed]",
      "text/plain": [
       "<Figure size 432x288 with 2 Axes>"
      ]
     },
     "metadata": {
      "needs_background": "light"
     },
     "output_type": "display_data"
    }
   ],
   "source": [
    "R.hist(bins=50)"
   ]
  },
  {
   "cell_type": "code",
   "execution_count": 22,
   "metadata": {},
   "outputs": [
    {
     "data": {
      "text/plain": [
       "array([[<AxesSubplot:title={'center':'AAPL'}>,\n",
       "        <AxesSubplot:title={'center':'GOOG'}>]], dtype=object)"
      ]
     },
     "execution_count": 22,
     "metadata": {},
     "output_type": "execute_result"
    },
    {
     "data": {
      "image/png": "[encoded data removed]",
      "text/plain": [
       "<Figure size 432x288 with 2 Axes>"
      ]
     },
     "metadata": {
      "needs_background": "light"
     },
     "output_type": "display_data"
    }
   ],
   "source": [
    "r.hist(bins=50)"
   ]
  },
  {
   "cell_type": "markdown",
   "metadata": {},
   "source": [
    "Además, supusimos que los rendimientos diarios eran una variable aleatoria con distribución normal (que se caracteriza con su media y varianza). Por tanto obtenemos la media y desviación estandar muestrales. Hagamos una función que retorne lo anterior."
   ]
  },
  {
   "cell_type": "code",
   "execution_count": 23,
   "metadata": {},
   "outputs": [
    {
     "data": {
      "text/plain": [
       "Symbols\n",
       "AAPL    0.001243\n",
       "GOOG    0.000825\n",
       "dtype: float64"
      ]
     },
     "execution_count": 23,
     "metadata": {},
     "output_type": "execute_result"
    }
   ],
   "source": [
    "R.mean()"
   ]
  },
  {
   "cell_type": "code",
   "execution_count": 24,
   "metadata": {},
   "outputs": [
    {
     "data": {
      "text/plain": [
       "Symbols\n",
       "AAPL    0.001064\n",
       "GOOG    0.000681\n",
       "dtype: float64"
      ]
     },
     "execution_count": 24,
     "metadata": {},
     "output_type": "execute_result"
    }
   ],
   "source": [
    "r.mean()"
   ]
  },
  {
   "cell_type": "code",
   "execution_count": 25,
   "metadata": {},
   "outputs": [
    {
     "data": {
      "text/plain": [
       "Symbols\n",
       "AAPL    0.018868\n",
       "GOOG    0.016993\n",
       "dtype: float64"
      ]
     },
     "execution_count": 25,
     "metadata": {},
     "output_type": "execute_result"
    }
   ],
   "source": [
    "R.std()"
   ]
  },
  {
   "cell_type": "code",
   "execution_count": 26,
   "metadata": {},
   "outputs": [
    {
     "data": {
      "text/plain": [
       "Symbols\n",
       "AAPL    0.018887\n",
       "GOOG    0.017008\n",
       "dtype: float64"
      ]
     },
     "execution_count": 26,
     "metadata": {},
     "output_type": "execute_result"
    }
   ],
   "source": [
    "r.std()"
   ]
  },
  {
   "cell_type": "markdown",
   "metadata": {},
   "source": [
    "Entonces, suponemos que el cambio porcentual de los precios (rendimientos diarios) tiene una distribución normal.\n",
    "\n",
    "¿Cómo se caracteriza una [distribución normal](https://es.wikipedia.org/wiki/Distribuci%C3%B3n_normal)?"
   ]
  },
  {
   "cell_type": "code",
   "execution_count": 27,
   "metadata": {},
   "outputs": [],
   "source": [
    "dias=10\n",
    "N=1000\n",
    "AAPL_R=np.random.normal(R['AAPL'].mean(), # Media de Apple\n",
    "                        R['AAPL'].std(),  # Desviación estandar de Apple\n",
    "                        (dias,N)          # Dimensión de la matriz aleatoria\n",
    "                       )\n",
    "GOOG_R=np.random.normal(R['GOOG'].mean(), # Media de Google\n",
    "                        R['GOOG'].std(),  # Desviación estandar de Google\n",
    "                        (dias,N)          # Dimensión de la matriz aleatoria\n",
    "                       )"
   ]
  },
  {
   "cell_type": "code",
   "execution_count": 31,
   "metadata": {},
   "outputs": [
    {
     "data": {
      "text/plain": [
       "Symbols\n",
       "AAPL    0.001243\n",
       "GOOG    0.000825\n",
       "dtype: float64"
      ]
     },
     "execution_count": 31,
     "metadata": {},
     "output_type": "execute_result"
    }
   ],
   "source": [
    "R.mean()"
   ]
  },
  {
   "cell_type": "code",
   "execution_count": 29,
   "metadata": {
    "collapsed": true
   },
   "outputs": [
    {
     "data": {
      "text/plain": [
       "array([-1.80408888e-03,  5.69850082e-03,  9.61997463e-03,  3.26477214e-03,\n",
       "        1.17336824e-02, -7.34832804e-04,  6.45010784e-03,  6.27679839e-03,\n",
       "       -1.44943149e-03,  8.17051476e-03, -5.89022024e-03,  1.01034400e-03,\n",
       "       -2.75848448e-03, -2.64032353e-03, -8.90484247e-04, -6.01556982e-03,\n",
       "        2.80727585e-03,  8.93647363e-03,  4.32235433e-03,  1.28163418e-02,\n",
       "        7.19885421e-03,  3.00788429e-03, -1.55364300e-03,  1.66988001e-02,\n",
       "       -1.23685296e-03,  2.23274155e-03,  8.16173186e-04,  8.78502998e-03,\n",
       "        4.51380663e-03, -1.30038154e-04,  1.70699332e-02, -2.85464783e-04,\n",
       "        5.52005777e-03,  8.30302391e-03,  4.75952932e-04, -7.37946956e-03,\n",
       "       -1.30077129e-03,  4.02952779e-03,  3.47952445e-03,  2.70968588e-03,\n",
       "        1.93511958e-03, -7.68977778e-03,  9.59322310e-03,  2.78537233e-03,\n",
       "        1.57870245e-03,  6.75592309e-03, -4.26209385e-03,  8.44639229e-03,\n",
       "       -3.44415907e-03, -1.09157923e-06,  6.13895381e-03,  1.66522768e-03,\n",
       "        6.59196896e-03, -8.73358559e-03,  3.99697679e-03, -2.02232857e-03,\n",
       "       -6.16740337e-03,  2.35754592e-03, -2.17766881e-03, -3.89024148e-03,\n",
       "       -1.03145130e-02, -2.45136306e-03, -5.61708157e-04, -9.13279614e-03,\n",
       "        8.02145236e-04,  1.05905473e-03,  6.80676654e-04,  2.18323877e-03,\n",
       "       -7.77541171e-04,  7.48746979e-03,  3.61068536e-03,  9.27362657e-03,\n",
       "        7.28017094e-04,  2.15081856e-03, -5.82394269e-03, -1.02681615e-03,\n",
       "       -4.42773073e-03,  7.67124350e-03, -4.68296332e-03,  4.39183481e-03,\n",
       "        3.60644530e-03,  3.19046908e-03,  1.25513642e-02, -2.84723699e-03,\n",
       "       -7.71192595e-03,  7.23528742e-03,  2.27565771e-03, -7.08929001e-03,\n",
       "       -3.32794348e-03, -1.86280155e-03,  1.32528086e-02, -2.53368709e-03,\n",
       "        3.84995530e-03,  8.60498150e-03, -1.04781339e-02, -1.17714341e-02,\n",
       "       -3.40034021e-03, -1.46170822e-03, -6.43021794e-03,  1.59191216e-03,\n",
       "        6.06993671e-03, -3.67654546e-04,  1.21056089e-02,  6.78757782e-03,\n",
       "        2.56530198e-03, -6.34951947e-03, -7.17918979e-03, -1.87235354e-03,\n",
       "       -2.51800119e-03,  5.99012624e-03, -1.35656910e-03, -9.02788501e-03,\n",
       "        1.92776755e-03, -2.13684208e-03, -6.96916940e-04,  9.35470441e-03,\n",
       "       -3.07209148e-04,  3.72155360e-03, -8.37623575e-03,  5.42870730e-03,\n",
       "       -5.05127628e-03,  3.68036506e-04, -1.30052078e-03, -6.39167950e-04,\n",
       "        1.22401283e-02,  1.58678360e-03,  9.75405724e-03, -7.99448450e-03,\n",
       "        3.12900579e-03, -3.35015645e-03, -9.58549665e-03, -1.80474584e-03,\n",
       "        1.64073909e-03, -9.83634643e-03, -7.47794934e-03, -4.07962281e-03,\n",
       "        5.37448292e-03,  3.36783673e-04,  5.32399670e-03,  5.17501442e-03,\n",
       "       -2.94658146e-04,  6.47668103e-03,  1.50306440e-04, -5.38942051e-03,\n",
       "        9.97751912e-04, -4.79135032e-03, -4.51868758e-04,  1.06554841e-02,\n",
       "        6.67840381e-03,  9.14135736e-04,  6.56209322e-03, -7.57044815e-03,\n",
       "        7.68703747e-03,  1.06176401e-02,  1.14358085e-02, -1.38125277e-03,\n",
       "       -5.28985701e-03, -6.20466771e-03,  7.00994815e-03,  1.10482619e-02,\n",
       "        6.09485410e-03, -2.60943132e-03,  9.23255788e-03,  2.46992023e-04,\n",
       "        4.65968632e-03,  3.26027522e-04, -4.50399092e-03,  6.23369041e-03,\n",
       "       -5.24701979e-03,  2.99653563e-04,  8.73210523e-04, -7.93139708e-03,\n",
       "        4.60210611e-03,  2.37106178e-03, -9.92313148e-03,  1.43392393e-03,\n",
       "        1.65098285e-03, -5.03140671e-03, -1.72273814e-03, -7.35060203e-03,\n",
       "       -6.50243306e-03, -2.11604110e-03,  1.66120303e-02, -1.18584622e-03,\n",
       "        2.83509901e-03,  1.28340946e-02,  5.36737814e-03,  3.60335202e-03,\n",
       "       -4.04175053e-03,  5.06640893e-03,  6.34397599e-03, -1.15160713e-03,\n",
       "        1.15823391e-02,  7.15279318e-03, -3.35704818e-03, -4.12864138e-03,\n",
       "       -1.09696767e-03, -6.72370559e-03,  3.82228039e-03,  6.77036229e-03,\n",
       "       -2.47794444e-03, -4.69636944e-03, -1.11488490e-02, -5.23047030e-03,\n",
       "       -2.68886921e-03,  3.24385274e-03, -8.22099633e-04, -2.27606229e-03,\n",
       "       -7.99329089e-03,  1.06766077e-03,  1.69727840e-03,  3.23821661e-03,\n",
       "       -2.99267910e-03,  4.29981078e-03,  2.07795782e-03, -1.70574938e-02,\n",
       "        8.38873052e-03,  1.02115850e-02, -8.35960724e-03,  2.34783482e-03,\n",
       "        3.30139100e-03,  3.96140060e-03,  7.80533692e-03,  5.22641351e-03,\n",
       "        6.00021938e-03,  1.95839578e-03, -7.76696644e-03,  4.77091162e-03,\n",
       "       -1.01229390e-02, -9.18692328e-03,  1.02359994e-02, -2.72969899e-04,\n",
       "        1.02386093e-03, -2.23392211e-03,  5.73022777e-03, -7.35913470e-03,\n",
       "       -3.71066913e-03, -1.64696029e-03, -2.94157226e-03, -1.67401913e-03,\n",
       "        1.42787580e-03, -6.98522502e-03, -6.82048296e-03,  5.32137908e-03,\n",
       "       -2.00451797e-03,  3.36551668e-03, -4.64386501e-03, -4.98309536e-03,\n",
       "        3.98985801e-03, -4.91547736e-03,  2.97814017e-03,  1.91606942e-03,\n",
       "       -4.67257588e-03,  3.70971046e-03, -8.52448243e-05,  1.13014044e-02,\n",
       "        1.55592584e-03,  4.34323345e-03, -3.80630217e-03,  6.96611765e-03,\n",
       "       -1.84751161e-03, -4.67271819e-03, -2.44551877e-03,  1.06779763e-03,\n",
       "       -3.67084969e-03,  1.99229708e-03,  6.31688920e-03, -1.96991037e-03,\n",
       "        6.11262240e-03, -4.42255359e-03, -1.71176783e-03,  8.96578609e-03,\n",
       "       -1.53182816e-03,  4.30304140e-03,  3.02660123e-03, -2.39697163e-03,\n",
       "        1.22004181e-03, -7.56659369e-03, -1.27179755e-03,  2.27588243e-03,\n",
       "        6.67622636e-03,  4.05630518e-03,  6.92311641e-04,  5.27221621e-03,\n",
       "        1.07615832e-02, -6.52944207e-04, -6.01946681e-03,  1.09516082e-03,\n",
       "        6.45530099e-03, -2.20562192e-03,  9.66474812e-03, -1.13261584e-02,\n",
       "       -3.61255070e-03, -4.69647068e-03,  1.56505541e-03,  7.25433997e-03,\n",
       "        3.26690636e-03,  5.89681218e-03,  1.03295225e-02, -7.47970573e-03,\n",
       "       -3.90092814e-03,  6.61177429e-03,  8.68414026e-03,  3.70768010e-03,\n",
       "        3.64932255e-03,  1.39481150e-02,  1.27882138e-03,  4.71902447e-03,\n",
       "        1.39457920e-02,  1.78639723e-03, -2.76388574e-05,  1.51732504e-03,\n",
       "        9.32193981e-03,  1.18674643e-02,  5.31261546e-03, -2.25232796e-03,\n",
       "        1.57660173e-03, -4.04480535e-03,  9.92226540e-03,  4.13287644e-03,\n",
       "       -4.67295225e-03, -8.47693588e-03,  9.02626445e-03, -8.61760009e-04,\n",
       "        7.64182220e-03,  9.13872805e-04, -8.71371254e-03,  5.10786430e-03,\n",
       "        2.49421509e-03,  3.90971452e-03,  5.52534988e-03,  3.65014298e-03,\n",
       "        1.05326613e-03,  1.16088613e-02, -2.35436539e-03,  2.39142586e-03,\n",
       "       -6.46511885e-05, -1.42186551e-03, -2.90239868e-03,  1.78799179e-04,\n",
       "        6.53101826e-03,  3.73705891e-03,  1.19224694e-03,  1.16064158e-03,\n",
       "       -9.04328329e-03, -8.20898714e-03, -2.20990807e-04,  3.58974257e-05,\n",
       "       -2.25809814e-03,  9.20416647e-03,  7.18457991e-03, -6.17933446e-04,\n",
       "        4.73985114e-03,  7.49208634e-04, -1.23177365e-03, -1.89249804e-03,\n",
       "       -4.34191519e-03,  5.07736966e-03,  8.82038570e-04,  4.61826506e-03,\n",
       "        9.73886595e-03,  6.97340566e-03,  1.00156765e-02,  1.29824035e-02,\n",
       "        4.48825455e-03, -1.21421911e-02, -1.09416811e-02, -4.58473939e-03,\n",
       "       -1.01273505e-02,  1.97065546e-03, -5.18695884e-03, -1.53375945e-03,\n",
       "        1.05559187e-02,  1.45718283e-03,  6.19958612e-03, -1.93489649e-03,\n",
       "        4.21066238e-03, -1.72855607e-04,  1.38646987e-02, -7.05013703e-03,\n",
       "        1.28326883e-03,  2.71780973e-03,  2.02656548e-03,  8.31073308e-03,\n",
       "       -7.55130630e-03, -4.66410134e-03,  3.53061407e-03, -3.68547236e-03,\n",
       "       -7.28182853e-03, -7.63478679e-03,  8.78123140e-03,  4.54169154e-03,\n",
       "       -1.67287279e-03,  1.39626942e-03,  5.03107970e-03,  5.57359861e-03,\n",
       "        2.72958800e-03, -7.36425170e-04,  2.84893922e-03,  3.11012830e-05,\n",
       "        3.02233402e-03,  7.95489196e-04,  1.02127544e-03, -1.61233044e-03,\n",
       "       -1.01197103e-02,  7.28374352e-03,  4.10138614e-03, -4.10510731e-03,\n",
       "        1.58800344e-02,  5.61875530e-03,  1.20522215e-03, -1.57728364e-03,\n",
       "        1.03739059e-03, -4.74728295e-03,  5.71848126e-03,  3.59741512e-03,\n",
       "        8.56983934e-04, -9.59835978e-03, -5.53620551e-03,  9.69091765e-04,\n",
       "        3.18893651e-03,  3.32549885e-03,  6.00060093e-03,  1.39570408e-03,\n",
       "       -6.57396107e-03,  1.04305085e-03,  8.35293170e-03,  4.07452663e-05,\n",
       "       -1.43221037e-03,  6.10825857e-03,  2.17705604e-03,  4.67073271e-03,\n",
       "       -1.95598942e-03, -3.06959679e-03,  3.19391189e-03, -8.92737899e-03,\n",
       "        5.41643935e-03, -3.80979850e-03, -4.80256439e-03, -2.61125204e-03,\n",
       "        1.10326674e-02,  7.45344959e-03,  4.70444889e-04,  9.96792510e-03,\n",
       "        1.49163922e-02,  1.81637761e-03, -2.32587518e-03,  1.29754846e-03,\n",
       "        1.74518195e-03, -7.42238237e-06,  5.60003244e-04, -8.45622371e-04,\n",
       "       -7.39320161e-03,  3.94843995e-03, -5.25025451e-03, -2.87519036e-04,\n",
       "       -5.25996596e-03,  2.93776321e-03,  5.18873261e-04, -6.58343548e-03,\n",
       "        2.01841815e-03, -2.85637828e-03, -2.16005945e-03,  1.58617181e-03,\n",
       "        9.13695982e-03, -6.28779891e-03, -3.30498930e-03, -6.28765719e-03,\n",
       "       -3.51249706e-03, -2.91615263e-03, -1.22599594e-03,  4.73687246e-03,\n",
       "        3.20361834e-03, -1.33842284e-04,  6.98428275e-05,  1.13185614e-02,\n",
       "       -5.17540946e-03,  1.28603252e-03, -1.21960204e-02, -1.28670748e-03,\n",
       "       -4.59932796e-03,  2.27992970e-03,  9.73090146e-03,  8.37578910e-03,\n",
       "        4.26651116e-03, -1.08976757e-03,  1.13205192e-02, -2.55630332e-04,\n",
       "        5.00613677e-04,  9.64495703e-03,  1.54533725e-02, -3.76830663e-03,\n",
       "        2.48697161e-03, -2.05565461e-03,  6.23652979e-03, -8.66361913e-04,\n",
       "        3.00910500e-03,  1.44014573e-04,  5.72428248e-03,  7.67910444e-03,\n",
       "        1.54303545e-03,  7.56921005e-04,  7.04647319e-03,  6.05074258e-03,\n",
       "        1.01029336e-02,  8.66930898e-04, -6.89775321e-03, -1.15374491e-03,\n",
       "        4.84725696e-03, -1.81691658e-03,  1.96378347e-03,  7.02498339e-03,\n",
       "        1.54551520e-02,  4.84019948e-03, -2.84044592e-03, -7.98024934e-03,\n",
       "       -8.61740873e-05, -4.89688986e-03,  4.00260670e-03, -5.11469017e-03,\n",
       "       -2.04777016e-03, -4.86709960e-03,  9.23007440e-03,  2.32443798e-03,\n",
       "       -2.05338126e-03,  5.31435546e-03, -1.58360699e-03, -3.04670031e-03,\n",
       "       -3.77323306e-03,  1.27066252e-02,  6.31744760e-03,  5.13074229e-03,\n",
       "        4.24886241e-03, -1.25788387e-02, -1.65621966e-03,  1.05429844e-02,\n",
       "        2.79339862e-03,  1.24486068e-03, -9.77419737e-03, -4.95688168e-04,\n",
       "       -4.05483676e-03, -7.71918271e-03, -1.01384471e-02, -6.97321226e-03,\n",
       "        6.65363429e-03,  4.90416834e-03, -5.14336677e-03, -3.96601047e-04,\n",
       "        8.79296395e-03,  7.30249848e-03,  1.40415890e-02,  5.26608955e-03,\n",
       "       -4.32126331e-03, -7.97137111e-03,  1.96296330e-03,  6.29144756e-03,\n",
       "       -1.07099994e-03, -4.61419743e-03,  6.55853671e-03, -7.78814054e-03,\n",
       "        2.51823544e-03, -4.57936954e-03, -5.78690550e-03, -2.08032073e-03,\n",
       "       -1.18516620e-02, -6.55732972e-03,  1.16462015e-02,  8.16520697e-03,\n",
       "       -1.27030512e-02,  5.50313602e-05, -1.03916216e-03,  8.12782371e-03,\n",
       "        1.93019760e-03, -2.12195381e-03, -1.26761288e-03,  9.96284963e-03,\n",
       "       -2.40931991e-03, -2.97392769e-03, -8.05700261e-03,  4.48611027e-04,\n",
       "        3.40514973e-03, -5.58593271e-04,  3.78194549e-03,  3.18418040e-03,\n",
       "        1.46955560e-02, -1.57792200e-03,  1.02562931e-03,  7.56160594e-03,\n",
       "        5.19634715e-03,  3.30264604e-03, -4.72589546e-03,  3.74488580e-03,\n",
       "        1.25130436e-02,  3.08551451e-03,  3.37852023e-03,  1.33953764e-04,\n",
       "       -2.39900262e-03,  6.07904632e-03,  2.08404328e-03, -4.12061728e-03,\n",
       "        3.41823522e-03,  8.54804661e-03,  6.53337637e-03,  6.22504286e-03,\n",
       "       -7.19876235e-03,  5.16648968e-03, -7.42139682e-03, -1.28365579e-02,\n",
       "       -8.40375183e-03,  1.50882143e-02, -2.48815748e-03,  3.08612977e-03,\n",
       "        2.63051025e-03,  5.43139034e-03,  8.66439226e-04, -5.35394735e-03,\n",
       "        1.60676374e-04,  9.99373688e-03, -2.01231429e-03,  8.08968133e-03,\n",
       "        3.57100654e-03, -1.02425680e-03,  9.95305108e-05, -1.07824236e-02,\n",
       "       -4.01505040e-03,  3.17135919e-03,  4.95370349e-03,  1.09616066e-02,\n",
       "        9.57228084e-03,  1.58797556e-02, -6.55971726e-03,  6.09370627e-03,\n",
       "       -3.69718080e-03, -3.57634438e-04, -1.70770950e-03, -5.60681756e-03,\n",
       "        1.13629847e-02,  1.05259227e-03,  1.05016700e-02,  6.24791300e-03,\n",
       "        3.56533657e-03,  1.66907903e-03,  1.50761844e-03, -5.94840999e-03,\n",
       "       -5.54600601e-03,  2.89091433e-03,  1.29365340e-02, -6.35127754e-03,\n",
       "       -5.28201223e-03,  6.54043628e-04,  9.45351595e-04,  4.34867656e-03,\n",
       "       -6.45710850e-03,  1.50984078e-03,  6.56897852e-03,  5.58086800e-03,\n",
       "        9.11074258e-04,  4.85444072e-03,  7.83048623e-03, -2.59001918e-03,\n",
       "       -4.47291384e-03, -1.19686289e-03,  5.30198774e-03,  4.97945858e-03,\n",
       "        5.99505929e-03, -3.82605800e-04, -5.57460458e-03,  3.97958362e-03,\n",
       "        5.76046983e-03, -8.80739653e-03, -2.23813143e-03, -4.58828956e-03,\n",
       "        9.93721495e-03,  2.20154853e-03,  1.18450841e-02,  7.53233081e-03,\n",
       "       -8.18187901e-03,  1.38900005e-03,  9.68179733e-03,  7.74329424e-03,\n",
       "        2.96177730e-03,  2.58837958e-03, -2.68367621e-03, -4.49134474e-03,\n",
       "        3.28773927e-03,  8.33096227e-03, -3.18776977e-03,  4.93758291e-03,\n",
       "       -8.02896361e-03,  3.07605213e-03, -6.31893437e-04, -4.10560505e-04,\n",
       "        6.07581145e-03,  2.47712139e-03, -5.09657778e-03,  4.10523757e-03,\n",
       "       -3.13049169e-03, -2.59638037e-03, -2.65315865e-03, -1.99464613e-03,\n",
       "        2.61915204e-04,  7.05204979e-03,  7.14045260e-03,  4.63780371e-03,\n",
       "        4.97707728e-03,  5.77402688e-03,  5.59671653e-03,  5.68065234e-03,\n",
       "        6.61838275e-03, -2.93060527e-03, -1.13884134e-03,  3.81149523e-03,\n",
       "        6.91363932e-03, -2.97923609e-03, -2.33219336e-03,  5.06650484e-04,\n",
       "       -8.55038418e-03, -1.17824684e-03, -2.40972492e-03,  1.29299096e-02,\n",
       "       -1.58768036e-03,  1.37512030e-03, -1.26188906e-02,  6.02944625e-03,\n",
       "        1.61664144e-03,  4.64717041e-03,  9.59403695e-03, -4.17159638e-03,\n",
       "        3.97413347e-03,  8.75344608e-03, -1.53183171e-03,  6.85814095e-03,\n",
       "       -1.51819572e-02,  8.85506316e-03,  6.58595638e-03, -1.17226883e-02,\n",
       "       -5.29090558e-03,  8.73542495e-03,  3.82943679e-03,  1.43684459e-03,\n",
       "        5.36516250e-03, -5.12737874e-04,  3.67177813e-03, -2.30253521e-03,\n",
       "       -2.95238937e-03,  1.12009880e-02,  7.68740657e-03,  7.81586111e-03,\n",
       "       -9.26166109e-03, -5.35103856e-03,  7.12868232e-03,  3.18412874e-03,\n",
       "        2.73484882e-03,  6.94194310e-03,  6.58161301e-03,  4.61098571e-03,\n",
       "        2.89263645e-03, -1.72847208e-03,  4.24034917e-03, -5.94915650e-03,\n",
       "       -5.21468090e-03,  1.16537584e-03, -8.91550912e-04,  7.04065246e-04,\n",
       "        6.61989941e-03,  2.33781909e-03, -3.85107180e-04, -5.58399330e-03,\n",
       "       -1.18372435e-03, -1.92394586e-03,  8.26596139e-04, -2.01785757e-04,\n",
       "       -1.10184222e-02, -5.43448823e-03,  1.26805279e-03,  3.89200319e-03,\n",
       "        2.07561006e-04,  1.38606013e-03, -6.14105714e-03,  4.99514393e-03,\n",
       "       -1.93269241e-04, -5.05572695e-03, -7.23273950e-04,  4.03269182e-03,\n",
       "       -4.90441652e-03,  8.79207180e-03,  1.09947463e-02,  4.94806552e-03,\n",
       "       -4.95991226e-03,  6.33673367e-03,  6.06937431e-03, -4.75374097e-03,\n",
       "       -1.71470576e-03,  1.98930636e-03,  2.28445826e-03,  1.26871907e-02,\n",
       "       -8.49493499e-04, -3.88423272e-03,  5.70870574e-03,  7.51802145e-03,\n",
       "        6.53920898e-03,  7.95380396e-03,  3.42799257e-03, -1.95446953e-03,\n",
       "        8.13521097e-05,  3.74577096e-03,  5.96700122e-04, -3.89041657e-03,\n",
       "        9.88199680e-03,  6.15595371e-03, -1.32104272e-02,  4.86555222e-03,\n",
       "       -2.59916895e-03,  7.84294523e-03,  1.18600248e-02, -6.10724080e-04,\n",
       "        1.03927406e-02, -4.92175516e-03,  1.17508669e-02, -2.97841133e-03,\n",
       "       -1.04903756e-02,  2.16609001e-03,  4.23402421e-03, -1.96845991e-03,\n",
       "       -5.29557729e-03, -1.70857672e-03,  5.81305932e-03, -5.84259139e-03,\n",
       "       -1.36745391e-04,  3.32259524e-03,  7.09167925e-03, -1.49849120e-03,\n",
       "        5.57604529e-03,  9.32006056e-03, -1.14393946e-02,  4.22875165e-03,\n",
       "        1.03241587e-02,  6.80489146e-03, -4.91079338e-03,  1.57215135e-02,\n",
       "        2.96061310e-03, -3.01725476e-03,  1.09590946e-02, -5.94989680e-03,\n",
       "       -6.15897656e-04,  5.02353748e-03, -1.88031924e-03,  4.64027279e-04,\n",
       "        1.73013722e-03, -8.37965288e-03,  1.18237170e-03,  8.52575745e-03,\n",
       "       -1.22946009e-03,  3.17755155e-03,  5.53932599e-03,  9.95667248e-03,\n",
       "        2.45956160e-03, -1.49989278e-03,  3.21192342e-03, -1.25375821e-02,\n",
       "       -2.55139207e-04, -1.83166342e-03,  1.06297267e-03,  1.75605424e-03,\n",
       "        2.21296876e-03, -5.53309665e-03,  6.24671037e-03, -6.80398197e-03,\n",
       "       -1.11448077e-02, -1.31588492e-02,  7.34661584e-03,  1.17676875e-02,\n",
       "        5.77756113e-03,  1.43635768e-03,  2.58844765e-03,  8.39529029e-03,\n",
       "       -5.42222193e-03,  4.49284755e-03,  1.10119399e-02,  2.46811444e-03,\n",
       "        8.01691654e-05,  1.17977758e-02,  9.76913693e-03,  2.51531747e-03,\n",
       "       -4.32709555e-03,  5.04455059e-03,  1.46412377e-03, -5.16387738e-03,\n",
       "       -5.71620032e-03,  1.43633566e-03,  6.37957264e-03,  6.94628419e-03,\n",
       "       -3.23382995e-03, -6.48687355e-03,  2.67365712e-03,  8.33202464e-03,\n",
       "        1.85467143e-04, -2.86822194e-03, -2.60869157e-03,  7.87177405e-03,\n",
       "       -3.31389557e-03,  3.45073694e-03,  9.59100966e-04,  5.99818209e-03,\n",
       "        8.71812895e-03,  3.64305476e-03,  1.92226574e-03,  1.82648334e-03,\n",
       "        2.05954685e-03, -5.34853189e-03,  1.94604620e-03,  3.62871754e-03,\n",
       "       -2.51015015e-03,  8.38711103e-05,  8.13957630e-03, -1.56482339e-03,\n",
       "        3.46002141e-03, -1.06954506e-03, -2.76979606e-03,  1.63902200e-02,\n",
       "       -1.13253073e-02,  1.99703416e-03,  1.32736624e-02,  8.69529467e-03,\n",
       "       -4.93545864e-03,  9.28019114e-03,  1.45164920e-03,  1.30542641e-02,\n",
       "       -1.89473764e-03,  6.66893584e-03,  8.20591590e-04,  1.04494036e-02,\n",
       "        3.03741926e-03, -3.50964314e-03,  3.79571518e-03, -1.45108691e-03,\n",
       "        1.01176466e-02,  9.51767198e-03, -8.16570801e-03,  8.59679274e-04,\n",
       "       -1.35530815e-02,  2.34384037e-03,  1.44626861e-02, -2.67626852e-03,\n",
       "        1.29300296e-02, -2.67263428e-03, -1.00490648e-02, -4.26899989e-03,\n",
       "       -5.42147323e-03,  3.30446483e-03,  8.58557421e-04, -2.86049556e-03,\n",
       "        1.67211241e-03,  3.42251701e-03,  4.32060411e-03,  5.16484750e-03,\n",
       "        9.09668662e-03,  6.52268773e-04, -9.13441582e-03,  4.05204984e-03,\n",
       "        3.89106436e-03, -9.00594263e-03, -1.93200462e-03, -6.11973857e-03,\n",
       "       -3.93319128e-04, -8.94319848e-04, -4.24746624e-04,  8.05650835e-03,\n",
       "        3.70050434e-03, -5.67335577e-03,  7.66644780e-03,  3.05694853e-03,\n",
       "       -2.05140217e-04,  1.91729344e-03, -1.37746789e-03,  3.61561494e-03,\n",
       "        2.34790589e-03, -1.57607687e-03,  5.36729862e-03, -1.26352667e-02,\n",
       "        4.42987453e-03,  7.80125967e-03,  1.41130438e-02,  6.31149588e-04,\n",
       "       -4.85224333e-03,  6.70976875e-04,  6.74500977e-03, -5.57132544e-03,\n",
       "       -2.93084306e-03, -6.24103930e-03,  1.05641184e-03,  7.75735521e-03,\n",
       "        3.99302386e-03,  1.90463749e-02, -1.39772018e-04,  9.23194897e-04,\n",
       "       -2.35544411e-03,  7.71039214e-03, -3.94351999e-04, -1.75058576e-03])"
      ]
     },
     "execution_count": 29,
     "metadata": {},
     "output_type": "execute_result"
    }
   ],
   "source": [
    "AAPL_R.mean(axis=0) # Calculamos la media por renglones"
   ]
  },
  {
   "cell_type": "code",
   "execution_count": 32,
   "metadata": {},
   "outputs": [
    {
     "data": {
      "text/plain": [
       "0.001277186509323833"
      ]
     },
     "execution_count": 32,
     "metadata": {},
     "output_type": "execute_result"
    }
   ],
   "source": [
    "AAPL_R.mean(axis=0).mean() # Calculamos la media de los 'N' escenarios"
   ]
  },
  {
   "cell_type": "code",
   "execution_count": 33,
   "metadata": {},
   "outputs": [
    {
     "data": {
      "text/plain": [
       "0.0012771865093238327"
      ]
     },
     "execution_count": 33,
     "metadata": {},
     "output_type": "execute_result"
    }
   ],
   "source": [
    "AAPL_R.mean()"
   ]
  },
  {
   "cell_type": "code",
   "execution_count": 34,
   "metadata": {},
   "outputs": [
    {
     "data": {
      "text/plain": [
       "0.0007374854736053247"
      ]
     },
     "execution_count": 34,
     "metadata": {},
     "output_type": "execute_result"
    }
   ],
   "source": [
    "GOOG_R.mean()"
   ]
  },
  {
   "cell_type": "markdown",
   "metadata": {},
   "source": [
    "Habiendo caracterizado los rendimientos diarios como una variable aleatoria normal con la media y la varianza muestral obtenida de los datos del 2018, podemos generar números aleatorios con estas características para simular el comportamiento de los precios de cierre de las acciones en el 2019 (hay un supuesto de que las cosas no cambiarán fundamentalmente).\n",
    "\n",
    "Sin embargo, cada simulación que hagamos nos conducirá a distintos resultados (los precios siguen evolucionando aleatoriamente). Entonces, lo que haremos es simular varios escenarios para así ver alguna tendencia y tomar decisiones.\n",
    "\n",
    "Hagamos una una función que simule varios escenarios de rendimientos diarios y que devuelva un dataframe con esta simulación."
   ]
  },
  {
   "cell_type": "code",
   "execution_count": 35,
   "metadata": {},
   "outputs": [],
   "source": [
    "pd.date_range?"
   ]
  },
  {
   "cell_type": "code",
   "execution_count": 38,
   "metadata": {},
   "outputs": [],
   "source": [
    "def sim(me,std,inicio,dias,N):\n",
    "    fechas=pd.date_range(inicio,periods=dias)\n",
    "    R=np.random.normal(me,std,(dias,N))\n",
    "    return pd.DataFrame(data=R,index=fechas)"
   ]
  },
  {
   "cell_type": "code",
   "execution_count": 56,
   "metadata": {},
   "outputs": [],
   "source": [
    "AAPL_R=sim(R['AAPL'].mean(),\n",
    "          R['AAPL'].std(),\n",
    "          '2022-06-22',\n",
    "           365,\n",
    "           1000)\n",
    "GOOG_R=sim(R['GOOG'].mean(),\n",
    "           R['GOOG'].std(),\n",
    "           '2022-06-22',\n",
    "           365,\n",
    "            1000)"
   ]
  },
  {
   "cell_type": "code",
   "execution_count": 41,
   "metadata": {},
   "outputs": [
    {
     "data": {
      "text/plain": [
       "Symbols\n",
       "AAPL     136.619995\n",
       "GOOG    2244.889893\n",
       "Name: 2022-06-21 00:00:00, dtype: float64"
      ]
     },
     "execution_count": 41,
     "metadata": {},
     "output_type": "execute_result"
    }
   ],
   "source": [
    "data.iloc[-1]"
   ]
  },
  {
   "cell_type": "code",
   "execution_count": 44,
   "metadata": {},
   "outputs": [
    {
     "data": {
      "text/plain": [
       "0     -0.023336\n",
       "1      0.006148\n",
       "2     -0.028374\n",
       "3     -0.016637\n",
       "4     -0.017706\n",
       "         ...   \n",
       "995    0.000511\n",
       "996    0.011547\n",
       "997    0.023990\n",
       "998    0.004117\n",
       "999    0.040036\n",
       "Name: 2022-06-22 00:00:00, Length: 1000, dtype: float64"
      ]
     },
     "execution_count": 44,
     "metadata": {},
     "output_type": "execute_result"
    }
   ],
   "source": [
    "AAPL_R.iloc[0]"
   ]
  },
  {
   "cell_type": "markdown",
   "metadata": {},
   "source": [
    "## 3. Proyección de precios de cierre"
   ]
  },
  {
   "cell_type": "markdown",
   "metadata": {},
   "source": [
    "Por tanto, para calcular los precios, tenemos:\n",
    "\n",
    "$$\\begin{align}\n",
    "p_i&=p_{i-1}(R_i+1)\\\\\n",
    "p_{i+1}&=p_i(R_{i+1}+1)=p_{i-1}(R_i+1)(R_{i+1}+1)\\\\\n",
    "&\\vdots\\\\\n",
    "p_{i+k}&=p_{i-1}(R_i+1)\\cdots(R_{i+k}+1).\n",
    "\\end{align}$$\n",
    "\n",
    "Si hacemos $i=0$ en la última ecuación, tenemos que $p_{k}=p_{-1}(R_0+1)\\cdots(R_{k}+1)$, donde $p_{-1}$ es el último precio reportado en el 2018."
   ]
  },
  {
   "cell_type": "markdown",
   "metadata": {},
   "source": [
    "Con los rendimientos, calculamos los precios de cierre..."
   ]
  },
  {
   "cell_type": "code",
   "execution_count": 57,
   "metadata": {},
   "outputs": [],
   "source": [
    "AAPL=data['AAPL'].iloc[-1]*(AAPL_R+1).cumprod() # cumprod -> producto acumulado\n",
    "GOOG=data['GOOG'].iloc[-1]*(GOOG_R+1).cumprod()"
   ]
  },
  {
   "cell_type": "markdown",
   "metadata": {},
   "source": [
    "## 4. Probabilidad Precio-Umbral\n",
    "\n",
    "Ya que tenemos muchos escenarios de precios proyectados, podemos ver varias cosas. Por ejemplo, ¿cuál es la probabilidad de que el precio de cierre sobrepase algún valor umbral en algún momento?"
   ]
  },
  {
   "cell_type": "code",
   "execution_count": 58,
   "metadata": {},
   "outputs": [
    {
     "data": {
      "text/plain": [
       "Symbols\n",
       "AAPL     163.943994\n",
       "GOOG    2693.867871\n",
       "Name: 2022-06-21 00:00:00, dtype: float64"
      ]
     },
     "execution_count": 58,
     "metadata": {},
     "output_type": "execute_result"
    }
   ],
   "source": [
    "# Vemos cuántos escenarios superan el 20% del precio de hoy\n",
    "Umbral=data.iloc[-1]*1.2\n",
    "Umbral"
   ]
  },
  {
   "cell_type": "code",
   "execution_count": 54,
   "metadata": {},
   "outputs": [
    {
     "data": {
      "text/plain": [
       "<AxesSubplot:>"
      ]
     },
     "execution_count": 54,
     "metadata": {},
     "output_type": "execute_result"
    },
    {
     "data": {
      "image/png": "[encoded data removed]",
      "text/plain": [
       "<Figure size 432x288 with 1 Axes>"
      ]
     },
     "metadata": {
      "needs_background": "light"
     },
     "output_type": "display_data"
    }
   ],
   "source": [
    "B_AAPL=AAPL>Umbral['AAPL'] # Variable de Bernoulli\n",
    "P_AAPL=B_AAPL.mean(axis=1) # Probabilidad de que se supere el Umbral\n",
    "P_AAPL.plot(grid=True)"
   ]
  },
  {
   "cell_type": "code",
   "execution_count": 59,
   "metadata": {},
   "outputs": [
    {
     "data": {
      "text/plain": [
       "<AxesSubplot:>"
      ]
     },
     "execution_count": 59,
     "metadata": {},
     "output_type": "execute_result"
    },
    {
     "data": {
      "image/png": "[encoded data removed]",
      "text/plain": [
       "<Figure size 432x288 with 1 Axes>"
      ]
     },
     "metadata": {
      "needs_background": "light"
     },
     "output_type": "display_data"
    }
   ],
   "source": [
    "B_GOOG=GOOG>Umbral['GOOG']\n",
    "P_GOOG=B_GOOG.mean(axis=1)\n",
    "P_GOOG.plot(grid=True)"
   ]
  },
  {
   "cell_type": "markdown",
   "metadata": {},
   "source": [
    "___\n",
    "Entonces, ya aprendimos a bajar datos con pandas-datareader. En específico, a partir de los precios de cierre ajustados obtuvimos los rendimientos diarios.\n",
    "\n",
    "Suponiendo que los rendimientos diarios son un proceso estocástico estacionario de distribución normal, pudimos caracaterizarlo y proyectar varios escenarios de evolución de los precios (montecarlo).\n",
    "\n",
    "Con estas proyecciones pudimos calcular probabilidades de sobrepasar cierto precio umbral: toma de decisiones."
   ]
  }
 ],
 "metadata": {
  "kernelspec": {
   "display_name": "Python 3",
   "language": "python",
   "name": "python3"
  },
  "language_info": {
   "codemirror_mode": {
    "name": "ipython",
    "version": 3
   },
   "file_extension": ".py",
   "mimetype": "text/x-python",
   "name": "python",
   "nbconvert_exporter": "python",
   "pygments_lexer": "ipython3",
   "version": "3.8.8"
  }
 },
 "nbformat": 4,
 "nbformat_minor": 2
}
